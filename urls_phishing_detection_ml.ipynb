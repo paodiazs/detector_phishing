{
  "cells": [
    {
      "cell_type": "code",
      "execution_count": null,
      "metadata": {
        "id": "4leYAFKGMew8"
      },
      "outputs": [],
      "source": [
        "import pandas as pd\n",
        "import itertools\n",
        "from sklearn.metrics import classification_report, confusion_matrix, accuracy_score\n",
        "from sklearn.model_selection import train_test_split\n",
        "import matplotlib.pyplot as plt\n",
        "import numpy as np\n",
        "import xgboost as xgb\n",
        "import lightgbm as LGBMClassifier\n",
        "import os\n",
        "import seaborn  as sns\n"
      ]
    },
    {
      "cell_type": "markdown",
      "metadata": {
        "id": "K0Hzm8R3SpIW"
      },
      "source": [
        "## LECTURA DEL DATASET"
      ]
    },
    {
      "cell_type": "code",
      "execution_count": null,
      "metadata": {
        "colab": {
          "base_uri": "https://localhost:8080/",
          "height": 224
        },
        "id": "DBZtLfhaM44O",
        "outputId": "d28a9709-792f-4fdc-89e9-c1a093f069c8"
      },
      "outputs": [
        {
          "output_type": "stream",
          "name": "stdout",
          "text": [
            "Dataset:  (651191, 2)\n"
          ]
        },
        {
          "output_type": "execute_result",
          "data": {
            "text/plain": [
              "                                                 url        type\n",
              "0                                   br-icloud.com.br    phishing\n",
              "1                mp3raid.com/music/krizz_kaliko.html      benign\n",
              "2                    bopsecrets.org/rexroth/cr/1.htm      benign\n",
              "3  http://www.garage-pirenne.be/index.php?option=...  defacement\n",
              "4  http://adventure-nicaragua.net/index.php?optio...  defacement"
            ],
            "text/html": [
              "\n",
              "  <div id=\"df-ea0c15e0-b760-4368-9bfe-49c84e1f1572\" class=\"colab-df-container\">\n",
              "    <div>\n",
              "<style scoped>\n",
              "    .dataframe tbody tr th:only-of-type {\n",
              "        vertical-align: middle;\n",
              "    }\n",
              "\n",
              "    .dataframe tbody tr th {\n",
              "        vertical-align: top;\n",
              "    }\n",
              "\n",
              "    .dataframe thead th {\n",
              "        text-align: right;\n",
              "    }\n",
              "</style>\n",
              "<table border=\"1\" class=\"dataframe\">\n",
              "  <thead>\n",
              "    <tr style=\"text-align: right;\">\n",
              "      <th></th>\n",
              "      <th>url</th>\n",
              "      <th>type</th>\n",
              "    </tr>\n",
              "  </thead>\n",
              "  <tbody>\n",
              "    <tr>\n",
              "      <th>0</th>\n",
              "      <td>br-icloud.com.br</td>\n",
              "      <td>phishing</td>\n",
              "    </tr>\n",
              "    <tr>\n",
              "      <th>1</th>\n",
              "      <td>mp3raid.com/music/krizz_kaliko.html</td>\n",
              "      <td>benign</td>\n",
              "    </tr>\n",
              "    <tr>\n",
              "      <th>2</th>\n",
              "      <td>bopsecrets.org/rexroth/cr/1.htm</td>\n",
              "      <td>benign</td>\n",
              "    </tr>\n",
              "    <tr>\n",
              "      <th>3</th>\n",
              "      <td>http://www.garage-pirenne.be/index.php?option=...</td>\n",
              "      <td>defacement</td>\n",
              "    </tr>\n",
              "    <tr>\n",
              "      <th>4</th>\n",
              "      <td>http://adventure-nicaragua.net/index.php?optio...</td>\n",
              "      <td>defacement</td>\n",
              "    </tr>\n",
              "  </tbody>\n",
              "</table>\n",
              "</div>\n",
              "    <div class=\"colab-df-buttons\">\n",
              "\n",
              "  <div class=\"colab-df-container\">\n",
              "    <button class=\"colab-df-convert\" onclick=\"convertToInteractive('df-ea0c15e0-b760-4368-9bfe-49c84e1f1572')\"\n",
              "            title=\"Convert this dataframe to an interactive table.\"\n",
              "            style=\"display:none;\">\n",
              "\n",
              "  <svg xmlns=\"http://www.w3.org/2000/svg\" height=\"24px\" viewBox=\"0 -960 960 960\">\n",
              "    <path d=\"M120-120v-720h720v720H120Zm60-500h600v-160H180v160Zm220 220h160v-160H400v160Zm0 220h160v-160H400v160ZM180-400h160v-160H180v160Zm440 0h160v-160H620v160ZM180-180h160v-160H180v160Zm440 0h160v-160H620v160Z\"/>\n",
              "  </svg>\n",
              "    </button>\n",
              "\n",
              "  <style>\n",
              "    .colab-df-container {\n",
              "      display:flex;\n",
              "      gap: 12px;\n",
              "    }\n",
              "\n",
              "    .colab-df-convert {\n",
              "      background-color: #E8F0FE;\n",
              "      border: none;\n",
              "      border-radius: 50%;\n",
              "      cursor: pointer;\n",
              "      display: none;\n",
              "      fill: #1967D2;\n",
              "      height: 32px;\n",
              "      padding: 0 0 0 0;\n",
              "      width: 32px;\n",
              "    }\n",
              "\n",
              "    .colab-df-convert:hover {\n",
              "      background-color: #E2EBFA;\n",
              "      box-shadow: 0px 1px 2px rgba(60, 64, 67, 0.3), 0px 1px 3px 1px rgba(60, 64, 67, 0.15);\n",
              "      fill: #174EA6;\n",
              "    }\n",
              "\n",
              "    .colab-df-buttons div {\n",
              "      margin-bottom: 4px;\n",
              "    }\n",
              "\n",
              "    [theme=dark] .colab-df-convert {\n",
              "      background-color: #3B4455;\n",
              "      fill: #D2E3FC;\n",
              "    }\n",
              "\n",
              "    [theme=dark] .colab-df-convert:hover {\n",
              "      background-color: #434B5C;\n",
              "      box-shadow: 0px 1px 3px 1px rgba(0, 0, 0, 0.15);\n",
              "      filter: drop-shadow(0px 1px 2px rgba(0, 0, 0, 0.3));\n",
              "      fill: #FFFFFF;\n",
              "    }\n",
              "  </style>\n",
              "\n",
              "    <script>\n",
              "      const buttonEl =\n",
              "        document.querySelector('#df-ea0c15e0-b760-4368-9bfe-49c84e1f1572 button.colab-df-convert');\n",
              "      buttonEl.style.display =\n",
              "        google.colab.kernel.accessAllowed ? 'block' : 'none';\n",
              "\n",
              "      async function convertToInteractive(key) {\n",
              "        const element = document.querySelector('#df-ea0c15e0-b760-4368-9bfe-49c84e1f1572');\n",
              "        const dataTable =\n",
              "          await google.colab.kernel.invokeFunction('convertToInteractive',\n",
              "                                                    [key], {});\n",
              "        if (!dataTable) return;\n",
              "\n",
              "        const docLinkHtml = 'Like what you see? Visit the ' +\n",
              "          '<a target=\"_blank\" href=https://colab.research.google.com/notebooks/data_table.ipynb>data table notebook</a>'\n",
              "          + ' to learn more about interactive tables.';\n",
              "        element.innerHTML = '';\n",
              "        dataTable['output_type'] = 'display_data';\n",
              "        await google.colab.output.renderOutput(dataTable, element);\n",
              "        const docLink = document.createElement('div');\n",
              "        docLink.innerHTML = docLinkHtml;\n",
              "        element.appendChild(docLink);\n",
              "      }\n",
              "    </script>\n",
              "  </div>\n",
              "\n",
              "\n",
              "<div id=\"df-e8fde116-2e67-406d-8cb9-f4877fffecbe\">\n",
              "  <button class=\"colab-df-quickchart\" onclick=\"quickchart('df-e8fde116-2e67-406d-8cb9-f4877fffecbe')\"\n",
              "            title=\"Suggest charts\"\n",
              "            style=\"display:none;\">\n",
              "\n",
              "<svg xmlns=\"http://www.w3.org/2000/svg\" height=\"24px\"viewBox=\"0 0 24 24\"\n",
              "     width=\"24px\">\n",
              "    <g>\n",
              "        <path d=\"M19 3H5c-1.1 0-2 .9-2 2v14c0 1.1.9 2 2 2h14c1.1 0 2-.9 2-2V5c0-1.1-.9-2-2-2zM9 17H7v-7h2v7zm4 0h-2V7h2v10zm4 0h-2v-4h2v4z\"/>\n",
              "    </g>\n",
              "</svg>\n",
              "  </button>\n",
              "\n",
              "<style>\n",
              "  .colab-df-quickchart {\n",
              "      --bg-color: #E8F0FE;\n",
              "      --fill-color: #1967D2;\n",
              "      --hover-bg-color: #E2EBFA;\n",
              "      --hover-fill-color: #174EA6;\n",
              "      --disabled-fill-color: #AAA;\n",
              "      --disabled-bg-color: #DDD;\n",
              "  }\n",
              "\n",
              "  [theme=dark] .colab-df-quickchart {\n",
              "      --bg-color: #3B4455;\n",
              "      --fill-color: #D2E3FC;\n",
              "      --hover-bg-color: #434B5C;\n",
              "      --hover-fill-color: #FFFFFF;\n",
              "      --disabled-bg-color: #3B4455;\n",
              "      --disabled-fill-color: #666;\n",
              "  }\n",
              "\n",
              "  .colab-df-quickchart {\n",
              "    background-color: var(--bg-color);\n",
              "    border: none;\n",
              "    border-radius: 50%;\n",
              "    cursor: pointer;\n",
              "    display: none;\n",
              "    fill: var(--fill-color);\n",
              "    height: 32px;\n",
              "    padding: 0;\n",
              "    width: 32px;\n",
              "  }\n",
              "\n",
              "  .colab-df-quickchart:hover {\n",
              "    background-color: var(--hover-bg-color);\n",
              "    box-shadow: 0 1px 2px rgba(60, 64, 67, 0.3), 0 1px 3px 1px rgba(60, 64, 67, 0.15);\n",
              "    fill: var(--button-hover-fill-color);\n",
              "  }\n",
              "\n",
              "  .colab-df-quickchart-complete:disabled,\n",
              "  .colab-df-quickchart-complete:disabled:hover {\n",
              "    background-color: var(--disabled-bg-color);\n",
              "    fill: var(--disabled-fill-color);\n",
              "    box-shadow: none;\n",
              "  }\n",
              "\n",
              "  .colab-df-spinner {\n",
              "    border: 2px solid var(--fill-color);\n",
              "    border-color: transparent;\n",
              "    border-bottom-color: var(--fill-color);\n",
              "    animation:\n",
              "      spin 1s steps(1) infinite;\n",
              "  }\n",
              "\n",
              "  @keyframes spin {\n",
              "    0% {\n",
              "      border-color: transparent;\n",
              "      border-bottom-color: var(--fill-color);\n",
              "      border-left-color: var(--fill-color);\n",
              "    }\n",
              "    20% {\n",
              "      border-color: transparent;\n",
              "      border-left-color: var(--fill-color);\n",
              "      border-top-color: var(--fill-color);\n",
              "    }\n",
              "    30% {\n",
              "      border-color: transparent;\n",
              "      border-left-color: var(--fill-color);\n",
              "      border-top-color: var(--fill-color);\n",
              "      border-right-color: var(--fill-color);\n",
              "    }\n",
              "    40% {\n",
              "      border-color: transparent;\n",
              "      border-right-color: var(--fill-color);\n",
              "      border-top-color: var(--fill-color);\n",
              "    }\n",
              "    60% {\n",
              "      border-color: transparent;\n",
              "      border-right-color: var(--fill-color);\n",
              "    }\n",
              "    80% {\n",
              "      border-color: transparent;\n",
              "      border-right-color: var(--fill-color);\n",
              "      border-bottom-color: var(--fill-color);\n",
              "    }\n",
              "    90% {\n",
              "      border-color: transparent;\n",
              "      border-bottom-color: var(--fill-color);\n",
              "    }\n",
              "  }\n",
              "</style>\n",
              "\n",
              "  <script>\n",
              "    async function quickchart(key) {\n",
              "      const quickchartButtonEl =\n",
              "        document.querySelector('#' + key + ' button');\n",
              "      quickchartButtonEl.disabled = true;  // To prevent multiple clicks.\n",
              "      quickchartButtonEl.classList.add('colab-df-spinner');\n",
              "      try {\n",
              "        const charts = await google.colab.kernel.invokeFunction(\n",
              "            'suggestCharts', [key], {});\n",
              "      } catch (error) {\n",
              "        console.error('Error during call to suggestCharts:', error);\n",
              "      }\n",
              "      quickchartButtonEl.classList.remove('colab-df-spinner');\n",
              "      quickchartButtonEl.classList.add('colab-df-quickchart-complete');\n",
              "    }\n",
              "    (() => {\n",
              "      let quickchartButtonEl =\n",
              "        document.querySelector('#df-e8fde116-2e67-406d-8cb9-f4877fffecbe button');\n",
              "      quickchartButtonEl.style.display =\n",
              "        google.colab.kernel.accessAllowed ? 'block' : 'none';\n",
              "    })();\n",
              "  </script>\n",
              "</div>\n",
              "\n",
              "    </div>\n",
              "  </div>\n"
            ],
            "application/vnd.google.colaboratory.intrinsic+json": {
              "type": "dataframe",
              "variable_name": "df"
            }
          },
          "metadata": {},
          "execution_count": 2
        }
      ],
      "source": [
        "df = pd.read_csv('/content/malicious_phish.csv') #leemos el dataset\n",
        "print(\"Dataset: \", df.shape) #devuelve una tupla que es el numero de filas y columnas\n",
        "df.head() #muestra las primeras 5 lineas del dataset\n"
      ]
    },
    {
      "cell_type": "markdown",
      "metadata": {
        "id": "8LF0zdgASv-9"
      },
      "source": [
        "## ESTRUCTURA DEL DATASET"
      ]
    },
    {
      "cell_type": "code",
      "execution_count": null,
      "metadata": {
        "colab": {
          "base_uri": "https://localhost:8080/"
        },
        "id": "mq6vi3zdiP5z",
        "outputId": "81af3b07-e125-4249-c1b2-341be5cea897"
      },
      "outputs": [
        {
          "output_type": "execute_result",
          "data": {
            "text/plain": [
              "type\n",
              "benign        428103\n",
              "defacement     96457\n",
              "phishing       94111\n",
              "malware        32520\n",
              "Name: count, dtype: int64"
            ]
          },
          "metadata": {},
          "execution_count": 4
        }
      ],
      "source": [
        "df.type.value_counts() #devuelve los tipos y cuántos son de cada uno"
      ]
    },
    {
      "cell_type": "markdown",
      "metadata": {
        "id": "qan14JEeQXCu"
      },
      "source": [
        "## CARACTERÍSTICAS EXTRACCIÓN Y SELECCIÓN"
      ]
    },
    {
      "cell_type": "markdown",
      "metadata": {
        "id": "Jp6SIcqvjYar"
      },
      "source": [
        "\n",
        "## Expresiones regulares: Uso de IP\n",
        "Estas nos permiten buscar patrones específicos dentro de cadenas de texto y realizar operaciones basadas en esos patrones."
      ]
    },
    {
      "cell_type": "code",
      "execution_count": null,
      "metadata": {
        "id": "otVSZJYSjeKH"
      },
      "outputs": [],
      "source": [
        "import re #modulo de expresiones regulares de python\n",
        "def having_ip_address(url):#Función\n",
        "    match = re.search( #busca un patron en la URL para buscar direcciones ipv4 o ipv6\n",
        "        '(([01]?\\\\d\\\\d?|2[0-4]\\\\d|25[0-5])\\\\.([01]?\\\\d\\\\d?|2[0-4]\\\\d|25[0-5])\\\\.([01]?\\\\d\\\\d?|2[0-4]\\\\d|25[0-5])\\\\.'\n",
        "        '([01]?\\\\d\\\\d?|2[0-4]\\\\d|25[0-5])\\\\/)|'  # IPv4\n",
        "        '((0x[0-9a-fA-F]{1,2})\\\\.(0x[0-9a-fA-F]{1,2})\\\\.(0x[0-9a-fA-F]{1,2})\\\\.(0x[0-9a-fA-F]{1,2})\\\\/)' # IPv4 in hexadecimal\n",
        "        '(?:[a-fA-F0-9]{1,4}:){7}[a-fA-F0-9]{1,4}', url)  # Ipv6\n",
        "    if match: #si encuentra, regresa 1\n",
        "        return 1\n",
        "    else: #si no encuentra, regresa 0\n",
        "        return 0\n",
        "#Crea una nueva columna llamada use_of_ip\n",
        "df['use_of_ip'] = df['url'].apply(lambda i: having_ip_address(i))\n"
      ]
    },
    {
      "cell_type": "markdown",
      "metadata": {
        "id": "gabHQoB-OAJf"
      },
      "source": [
        "## VERIFICAR SI ES ABNORMAL LA URL\n",
        "Verificamos tiene diferentes palabras o algo que normlamente no está en las url comunes"
      ]
    },
    {
      "cell_type": "code",
      "execution_count": null,
      "metadata": {
        "id": "lECqcRr4JDFc"
      },
      "outputs": [],
      "source": [
        "#Tener diferentes tipos de keywords o algo que no es normalmente visto en urls\n",
        "from urllib.parse import urlparse # se utiliza para analizar (parsear) una URL dada y dividirla en sus componentes como esquema, red, ubicación, ruta, parámetros, consulta, fragmento, etc.\n",
        "\n",
        "def abnormal_url(url):\n",
        "  hostname = urlparse(url).hostname #de urlparse tomamos hostname\n",
        "  hostname = str(hostname) #Convierte hostname en una cadena (string) si es necesario, para asegurarnos de que sea un tipo de datos compatible con re.search.\n",
        "  match = re.search(hostname, url) #busca re.search apra buscar que hostname esté\n",
        "  if match: #si si está\n",
        "    return 1 #regresa1\n",
        "  else:\n",
        "    return 0 #sino, regresa 0\n",
        "#utiliza apply para aplicar la función abnormal_url a cada elemento (i) en la columna 'url' del DataFrame df.\n",
        "df['abnormal_url'] = df['url'].apply(lambda i: abnormal_url(i))"
      ]
    },
    {
      "cell_type": "markdown",
      "metadata": {
        "id": "JaxTXib4MPLl"
      },
      "source": [
        "Una función lambda en Python es una función anónima y pequeña que se define sin un nombre mediante la palabra clave lambda. A diferencia de las funciones definidas con def, las funciones lambda se utilizan para expresiones simples que se evalúan y devuelven en una sola línea de código."
      ]
    },
    {
      "cell_type": "markdown",
      "metadata": {
        "id": "qT2TVf7-MpqG"
      },
      "source": [
        "## ****no se usa** VERIFICAR SI ESTÁ INDEXADO EN GOOGLE\n",
        "googlesearch-python nos ayuda para buscar un sitio en particular y para saber si está indexado en google, esto quiere decir, significa que una página web o contenido específico ha sido procesado y almacenado por el motor de búsqueda de Google para ser incluido en su índice."
      ]
    },
    {
      "cell_type": "code",
      "execution_count": null,
      "metadata": {
        "colab": {
          "base_uri": "https://localhost:8080/"
        },
        "id": "LpEooF-WMQ2a",
        "outputId": "4ddfa71e-4b4f-41ee-8d57-20461fda584a"
      },
      "outputs": [
        {
          "output_type": "stream",
          "name": "stdout",
          "text": [
            "Collecting googlesearch-python\n",
            "  Downloading googlesearch_python-1.2.4-py3-none-any.whl (4.5 kB)\n",
            "Requirement already satisfied: beautifulsoup4>=4.9 in /usr/local/lib/python3.10/dist-packages (from googlesearch-python) (4.12.3)\n",
            "Requirement already satisfied: requests>=2.20 in /usr/local/lib/python3.10/dist-packages (from googlesearch-python) (2.31.0)\n",
            "Requirement already satisfied: soupsieve>1.2 in /usr/local/lib/python3.10/dist-packages (from beautifulsoup4>=4.9->googlesearch-python) (2.5)\n",
            "Requirement already satisfied: charset-normalizer<4,>=2 in /usr/local/lib/python3.10/dist-packages (from requests>=2.20->googlesearch-python) (3.3.2)\n",
            "Requirement already satisfied: idna<4,>=2.5 in /usr/local/lib/python3.10/dist-packages (from requests>=2.20->googlesearch-python) (3.7)\n",
            "Requirement already satisfied: urllib3<3,>=1.21.1 in /usr/local/lib/python3.10/dist-packages (from requests>=2.20->googlesearch-python) (2.0.7)\n",
            "Requirement already satisfied: certifi>=2017.4.17 in /usr/local/lib/python3.10/dist-packages (from requests>=2.20->googlesearch-python) (2024.2.2)\n",
            "Installing collected packages: googlesearch-python\n",
            "Successfully installed googlesearch-python-1.2.4\n"
          ]
        }
      ],
      "source": [
        "!pip install googlesearch-python"
      ]
    },
    {
      "cell_type": "code",
      "execution_count": null,
      "metadata": {
        "id": "dpccnDrMNPhg"
      },
      "outputs": [],
      "source": [
        "from googlesearch import search #importamos search\n",
        "def google_index(url): #le pasamos la url\n",
        "  site = search(url, 5) #busca la url, hasta 5 resultados\n",
        "  return 1 if site else 0 #devuelve 1 si si la encuentra y 0 si no\n",
        "df['google_index'] = df['url'].apply(lambda i: google_index(i)) #aplicamos esta función a cada columna del dataset"
      ]
    },
    {
      "cell_type": "markdown",
      "metadata": {
        "id": "sNeeHxr9Oj9J"
      },
      "source": [
        "## CONTAR LOS PUNTOS EN LA URL\n",
        "La función devuelve el recuento de puntos dentro de la url"
      ]
    },
    {
      "cell_type": "code",
      "execution_count": null,
      "metadata": {
        "colab": {
          "base_uri": "https://localhost:8080/",
          "height": 206
        },
        "id": "FXsbFeaiOngL",
        "outputId": "9ec41513-ac9e-4ef3-d8dc-3689d6847bba"
      },
      "outputs": [
        {
          "output_type": "execute_result",
          "data": {
            "text/plain": [
              "                                                 url        type  use_of_ip  \\\n",
              "0                                   br-icloud.com.br    phishing          0   \n",
              "1                mp3raid.com/music/krizz_kaliko.html      benign          0   \n",
              "2                    bopsecrets.org/rexroth/cr/1.htm      benign          0   \n",
              "3  http://www.garage-pirenne.be/index.php?option=...  defacement          0   \n",
              "4  http://adventure-nicaragua.net/index.php?optio...  defacement          0   \n",
              "\n",
              "   abnormal_url  google_index  count-dot  \n",
              "0             0             1          2  \n",
              "1             0             1          2  \n",
              "2             0             1          2  \n",
              "3             1             1          3  \n",
              "4             1             1          2  "
            ],
            "text/html": [
              "\n",
              "  <div id=\"df-4e986cef-318a-434c-bda6-5ba8cfe235f0\" class=\"colab-df-container\">\n",
              "    <div>\n",
              "<style scoped>\n",
              "    .dataframe tbody tr th:only-of-type {\n",
              "        vertical-align: middle;\n",
              "    }\n",
              "\n",
              "    .dataframe tbody tr th {\n",
              "        vertical-align: top;\n",
              "    }\n",
              "\n",
              "    .dataframe thead th {\n",
              "        text-align: right;\n",
              "    }\n",
              "</style>\n",
              "<table border=\"1\" class=\"dataframe\">\n",
              "  <thead>\n",
              "    <tr style=\"text-align: right;\">\n",
              "      <th></th>\n",
              "      <th>url</th>\n",
              "      <th>type</th>\n",
              "      <th>use_of_ip</th>\n",
              "      <th>abnormal_url</th>\n",
              "      <th>google_index</th>\n",
              "      <th>count-dot</th>\n",
              "    </tr>\n",
              "  </thead>\n",
              "  <tbody>\n",
              "    <tr>\n",
              "      <th>0</th>\n",
              "      <td>br-icloud.com.br</td>\n",
              "      <td>phishing</td>\n",
              "      <td>0</td>\n",
              "      <td>0</td>\n",
              "      <td>1</td>\n",
              "      <td>2</td>\n",
              "    </tr>\n",
              "    <tr>\n",
              "      <th>1</th>\n",
              "      <td>mp3raid.com/music/krizz_kaliko.html</td>\n",
              "      <td>benign</td>\n",
              "      <td>0</td>\n",
              "      <td>0</td>\n",
              "      <td>1</td>\n",
              "      <td>2</td>\n",
              "    </tr>\n",
              "    <tr>\n",
              "      <th>2</th>\n",
              "      <td>bopsecrets.org/rexroth/cr/1.htm</td>\n",
              "      <td>benign</td>\n",
              "      <td>0</td>\n",
              "      <td>0</td>\n",
              "      <td>1</td>\n",
              "      <td>2</td>\n",
              "    </tr>\n",
              "    <tr>\n",
              "      <th>3</th>\n",
              "      <td>http://www.garage-pirenne.be/index.php?option=...</td>\n",
              "      <td>defacement</td>\n",
              "      <td>0</td>\n",
              "      <td>1</td>\n",
              "      <td>1</td>\n",
              "      <td>3</td>\n",
              "    </tr>\n",
              "    <tr>\n",
              "      <th>4</th>\n",
              "      <td>http://adventure-nicaragua.net/index.php?optio...</td>\n",
              "      <td>defacement</td>\n",
              "      <td>0</td>\n",
              "      <td>1</td>\n",
              "      <td>1</td>\n",
              "      <td>2</td>\n",
              "    </tr>\n",
              "  </tbody>\n",
              "</table>\n",
              "</div>\n",
              "    <div class=\"colab-df-buttons\">\n",
              "\n",
              "  <div class=\"colab-df-container\">\n",
              "    <button class=\"colab-df-convert\" onclick=\"convertToInteractive('df-4e986cef-318a-434c-bda6-5ba8cfe235f0')\"\n",
              "            title=\"Convert this dataframe to an interactive table.\"\n",
              "            style=\"display:none;\">\n",
              "\n",
              "  <svg xmlns=\"http://www.w3.org/2000/svg\" height=\"24px\" viewBox=\"0 -960 960 960\">\n",
              "    <path d=\"M120-120v-720h720v720H120Zm60-500h600v-160H180v160Zm220 220h160v-160H400v160Zm0 220h160v-160H400v160ZM180-400h160v-160H180v160Zm440 0h160v-160H620v160ZM180-180h160v-160H180v160Zm440 0h160v-160H620v160Z\"/>\n",
              "  </svg>\n",
              "    </button>\n",
              "\n",
              "  <style>\n",
              "    .colab-df-container {\n",
              "      display:flex;\n",
              "      gap: 12px;\n",
              "    }\n",
              "\n",
              "    .colab-df-convert {\n",
              "      background-color: #E8F0FE;\n",
              "      border: none;\n",
              "      border-radius: 50%;\n",
              "      cursor: pointer;\n",
              "      display: none;\n",
              "      fill: #1967D2;\n",
              "      height: 32px;\n",
              "      padding: 0 0 0 0;\n",
              "      width: 32px;\n",
              "    }\n",
              "\n",
              "    .colab-df-convert:hover {\n",
              "      background-color: #E2EBFA;\n",
              "      box-shadow: 0px 1px 2px rgba(60, 64, 67, 0.3), 0px 1px 3px 1px rgba(60, 64, 67, 0.15);\n",
              "      fill: #174EA6;\n",
              "    }\n",
              "\n",
              "    .colab-df-buttons div {\n",
              "      margin-bottom: 4px;\n",
              "    }\n",
              "\n",
              "    [theme=dark] .colab-df-convert {\n",
              "      background-color: #3B4455;\n",
              "      fill: #D2E3FC;\n",
              "    }\n",
              "\n",
              "    [theme=dark] .colab-df-convert:hover {\n",
              "      background-color: #434B5C;\n",
              "      box-shadow: 0px 1px 3px 1px rgba(0, 0, 0, 0.15);\n",
              "      filter: drop-shadow(0px 1px 2px rgba(0, 0, 0, 0.3));\n",
              "      fill: #FFFFFF;\n",
              "    }\n",
              "  </style>\n",
              "\n",
              "    <script>\n",
              "      const buttonEl =\n",
              "        document.querySelector('#df-4e986cef-318a-434c-bda6-5ba8cfe235f0 button.colab-df-convert');\n",
              "      buttonEl.style.display =\n",
              "        google.colab.kernel.accessAllowed ? 'block' : 'none';\n",
              "\n",
              "      async function convertToInteractive(key) {\n",
              "        const element = document.querySelector('#df-4e986cef-318a-434c-bda6-5ba8cfe235f0');\n",
              "        const dataTable =\n",
              "          await google.colab.kernel.invokeFunction('convertToInteractive',\n",
              "                                                    [key], {});\n",
              "        if (!dataTable) return;\n",
              "\n",
              "        const docLinkHtml = 'Like what you see? Visit the ' +\n",
              "          '<a target=\"_blank\" href=https://colab.research.google.com/notebooks/data_table.ipynb>data table notebook</a>'\n",
              "          + ' to learn more about interactive tables.';\n",
              "        element.innerHTML = '';\n",
              "        dataTable['output_type'] = 'display_data';\n",
              "        await google.colab.output.renderOutput(dataTable, element);\n",
              "        const docLink = document.createElement('div');\n",
              "        docLink.innerHTML = docLinkHtml;\n",
              "        element.appendChild(docLink);\n",
              "      }\n",
              "    </script>\n",
              "  </div>\n",
              "\n",
              "\n",
              "<div id=\"df-808c0a25-0487-4f34-a39a-d7a2fc599900\">\n",
              "  <button class=\"colab-df-quickchart\" onclick=\"quickchart('df-808c0a25-0487-4f34-a39a-d7a2fc599900')\"\n",
              "            title=\"Suggest charts\"\n",
              "            style=\"display:none;\">\n",
              "\n",
              "<svg xmlns=\"http://www.w3.org/2000/svg\" height=\"24px\"viewBox=\"0 0 24 24\"\n",
              "     width=\"24px\">\n",
              "    <g>\n",
              "        <path d=\"M19 3H5c-1.1 0-2 .9-2 2v14c0 1.1.9 2 2 2h14c1.1 0 2-.9 2-2V5c0-1.1-.9-2-2-2zM9 17H7v-7h2v7zm4 0h-2V7h2v10zm4 0h-2v-4h2v4z\"/>\n",
              "    </g>\n",
              "</svg>\n",
              "  </button>\n",
              "\n",
              "<style>\n",
              "  .colab-df-quickchart {\n",
              "      --bg-color: #E8F0FE;\n",
              "      --fill-color: #1967D2;\n",
              "      --hover-bg-color: #E2EBFA;\n",
              "      --hover-fill-color: #174EA6;\n",
              "      --disabled-fill-color: #AAA;\n",
              "      --disabled-bg-color: #DDD;\n",
              "  }\n",
              "\n",
              "  [theme=dark] .colab-df-quickchart {\n",
              "      --bg-color: #3B4455;\n",
              "      --fill-color: #D2E3FC;\n",
              "      --hover-bg-color: #434B5C;\n",
              "      --hover-fill-color: #FFFFFF;\n",
              "      --disabled-bg-color: #3B4455;\n",
              "      --disabled-fill-color: #666;\n",
              "  }\n",
              "\n",
              "  .colab-df-quickchart {\n",
              "    background-color: var(--bg-color);\n",
              "    border: none;\n",
              "    border-radius: 50%;\n",
              "    cursor: pointer;\n",
              "    display: none;\n",
              "    fill: var(--fill-color);\n",
              "    height: 32px;\n",
              "    padding: 0;\n",
              "    width: 32px;\n",
              "  }\n",
              "\n",
              "  .colab-df-quickchart:hover {\n",
              "    background-color: var(--hover-bg-color);\n",
              "    box-shadow: 0 1px 2px rgba(60, 64, 67, 0.3), 0 1px 3px 1px rgba(60, 64, 67, 0.15);\n",
              "    fill: var(--button-hover-fill-color);\n",
              "  }\n",
              "\n",
              "  .colab-df-quickchart-complete:disabled,\n",
              "  .colab-df-quickchart-complete:disabled:hover {\n",
              "    background-color: var(--disabled-bg-color);\n",
              "    fill: var(--disabled-fill-color);\n",
              "    box-shadow: none;\n",
              "  }\n",
              "\n",
              "  .colab-df-spinner {\n",
              "    border: 2px solid var(--fill-color);\n",
              "    border-color: transparent;\n",
              "    border-bottom-color: var(--fill-color);\n",
              "    animation:\n",
              "      spin 1s steps(1) infinite;\n",
              "  }\n",
              "\n",
              "  @keyframes spin {\n",
              "    0% {\n",
              "      border-color: transparent;\n",
              "      border-bottom-color: var(--fill-color);\n",
              "      border-left-color: var(--fill-color);\n",
              "    }\n",
              "    20% {\n",
              "      border-color: transparent;\n",
              "      border-left-color: var(--fill-color);\n",
              "      border-top-color: var(--fill-color);\n",
              "    }\n",
              "    30% {\n",
              "      border-color: transparent;\n",
              "      border-left-color: var(--fill-color);\n",
              "      border-top-color: var(--fill-color);\n",
              "      border-right-color: var(--fill-color);\n",
              "    }\n",
              "    40% {\n",
              "      border-color: transparent;\n",
              "      border-right-color: var(--fill-color);\n",
              "      border-top-color: var(--fill-color);\n",
              "    }\n",
              "    60% {\n",
              "      border-color: transparent;\n",
              "      border-right-color: var(--fill-color);\n",
              "    }\n",
              "    80% {\n",
              "      border-color: transparent;\n",
              "      border-right-color: var(--fill-color);\n",
              "      border-bottom-color: var(--fill-color);\n",
              "    }\n",
              "    90% {\n",
              "      border-color: transparent;\n",
              "      border-bottom-color: var(--fill-color);\n",
              "    }\n",
              "  }\n",
              "</style>\n",
              "\n",
              "  <script>\n",
              "    async function quickchart(key) {\n",
              "      const quickchartButtonEl =\n",
              "        document.querySelector('#' + key + ' button');\n",
              "      quickchartButtonEl.disabled = true;  // To prevent multiple clicks.\n",
              "      quickchartButtonEl.classList.add('colab-df-spinner');\n",
              "      try {\n",
              "        const charts = await google.colab.kernel.invokeFunction(\n",
              "            'suggestCharts', [key], {});\n",
              "      } catch (error) {\n",
              "        console.error('Error during call to suggestCharts:', error);\n",
              "      }\n",
              "      quickchartButtonEl.classList.remove('colab-df-spinner');\n",
              "      quickchartButtonEl.classList.add('colab-df-quickchart-complete');\n",
              "    }\n",
              "    (() => {\n",
              "      let quickchartButtonEl =\n",
              "        document.querySelector('#df-808c0a25-0487-4f34-a39a-d7a2fc599900 button');\n",
              "      quickchartButtonEl.style.display =\n",
              "        google.colab.kernel.accessAllowed ? 'block' : 'none';\n",
              "    })();\n",
              "  </script>\n",
              "</div>\n",
              "\n",
              "    </div>\n",
              "  </div>\n"
            ],
            "application/vnd.google.colaboratory.intrinsic+json": {
              "type": "dataframe",
              "variable_name": "df"
            }
          },
          "metadata": {},
          "execution_count": 9
        }
      ],
      "source": [
        "def count_dot(url):#funcion y le pasamos url\n",
        "  count_dot = url.count('.') #hacemos un count de los puntos\n",
        "  return count_dot #devolvemos el recuento\n",
        "\n",
        "df['count-dot'] = df['url'].apply(lambda i: count_dot(i)) #añadimos la columna al dataset\n",
        "df.head() #mostramos las primeras 5 lineas del dataset"
      ]
    },
    {
      "cell_type": "markdown",
      "metadata": {
        "id": "vTpPKn0-Pdou"
      },
      "source": [
        "## RECUENTO DE PALABRAS CLAVE `www`, `@`"
      ]
    },
    {
      "cell_type": "code",
      "execution_count": null,
      "metadata": {
        "id": "fVhtm9VLPklk"
      },
      "outputs": [],
      "source": [
        "def count_www(url):\n",
        "  url.count('www')\n",
        "  return url.count('www')\n",
        "df['count-www'] = df['url'].apply(lambda i: count_www(i))\n",
        "\n",
        "def count_atrate(url):\n",
        "    return url.count('@')\n",
        "\n",
        "\n",
        "df['count@'] = df['url'].apply(lambda i: count_atrate(i))"
      ]
    },
    {
      "cell_type": "markdown",
      "metadata": {
        "id": "IipKNFRvQErt"
      },
      "source": [
        "## NÚMERO DE DIRECTORIOS, dados por `/`"
      ]
    },
    {
      "cell_type": "code",
      "execution_count": null,
      "metadata": {
        "id": "qZOYA6RhP45K"
      },
      "outputs": [],
      "source": [
        "def no_of_dir(url):\n",
        "  urldir = urlparse(url).path\n",
        "  return urldir.count('/')\n",
        "df['count_dir'] = df['url'].apply(lambda i: no_of_dir(i))"
      ]
    },
    {
      "cell_type": "markdown",
      "metadata": {
        "id": "g1UIpVKOQp9H"
      },
      "source": [
        "## NÚMERO DE INTEGRACIONES `//`"
      ]
    },
    {
      "cell_type": "code",
      "execution_count": null,
      "metadata": {
        "id": "zL7IW6K3Q01k"
      },
      "outputs": [],
      "source": [
        "def no_of_embed(url):\n",
        "  urldir = urlparse(url).path\n",
        "  return urldir.count('//')\n",
        "df['count_embed_domain'] = df['url'].apply(lambda i: no_of_embed(i))"
      ]
    },
    {
      "cell_type": "markdown",
      "metadata": {
        "id": "68E3C2auSG4P"
      },
      "source": [
        "## SHORTENING SERVICE\n",
        "Hay servicios donde acortan la url para hacerla más pequeña\n",
        "La función lo sidentificará y dirá si son urls acortadas o no"
      ]
    },
    {
      "cell_type": "code",
      "execution_count": null,
      "metadata": {
        "id": "ZTJdnJcoSGn-"
      },
      "outputs": [],
      "source": [
        "def shortening_service(url):\n",
        "    match = re.search('bit\\.ly|goo\\.gl|shorte\\.st|go2l\\.ink|x\\.co|ow\\.ly|t\\.co|tinyurl|tr\\.im|is\\.gd|cli\\.gs|'\n",
        "                      'yfrog\\.com|migre\\.me|ff\\.im|tiny\\.cc|url4\\.eu|twit\\.ac|su\\.pr|twurl\\.nl|snipurl\\.com|'\n",
        "                      'short\\.to|BudURL\\.com|ping\\.fm|post\\.ly|Just\\.as|bkite\\.com|snipr\\.com|fic\\.kr|loopt\\.us|'\n",
        "                      'doiop\\.com|short\\.ie|kl\\.am|wp\\.me|rubyurl\\.com|om\\.ly|to\\.ly|bit\\.do|t\\.co|lnkd\\.in|'\n",
        "                      'db\\.tt|qr\\.ae|adf\\.ly|goo\\.gl|bitly\\.com|cur\\.lv|tinyurl\\.com|ow\\.ly|bit\\.ly|ity\\.im|'\n",
        "                      'q\\.gs|is\\.gd|po\\.st|bc\\.vc|twitthis\\.com|u\\.to|j\\.mp|buzurl\\.com|cutt\\.us|u\\.bb|yourls\\.org|'\n",
        "                      'x\\.co|prettylinkpro\\.com|scrnch\\.me|filoops\\.info|vzturl\\.com|qr\\.net|1url\\.com|tweez\\.me|v\\.gd|'\n",
        "                      'tr\\.im|link\\.zip\\.net',\n",
        "                      url)\n",
        "    if match:\n",
        "        return 1\n",
        "    else:\n",
        "        return 0\n",
        "\n",
        "\n",
        "df['short_url'] = df['url'].apply(lambda i: shortening_service(i))"
      ]
    },
    {
      "cell_type": "markdown",
      "metadata": {
        "id": "qx1JmipnSaJ_"
      },
      "source": [
        "## CONTADOR DE `HTTPS` Y `HTTP`"
      ]
    },
    {
      "cell_type": "code",
      "execution_count": null,
      "metadata": {
        "id": "wd9mw0UiSkCF"
      },
      "outputs": [],
      "source": [
        "def count_https(url):\n",
        "  return url.count('https')\n",
        "df['count-https'] = df['url'].apply(lambda i: count_https(i))\n",
        "\n",
        "def count_http(url):\n",
        "  return url.count('http')\n",
        "df['count-http'] = df['url'].apply(lambda i: count_http(i))"
      ]
    },
    {
      "cell_type": "markdown",
      "metadata": {
        "id": "FS_3aPBNS7HF"
      },
      "source": [
        "## CONTADOR DE `%`,` ?`,` - `, `=`\n",
        "- Los % SON ESPACIOS\n",
        "- ? normalmente un id\n"
      ]
    },
    {
      "cell_type": "code",
      "execution_count": null,
      "metadata": {
        "id": "JB1-eiLsTLNJ"
      },
      "outputs": [],
      "source": [
        "def count_per(url):\n",
        "  return url.count('%')\n",
        "df['count%'] = df['url'].apply(lambda i: count_per(i))\n",
        "\n",
        "def count_ques(url):\n",
        "  return url.count('?')\n",
        "df['count?'] = df['url'].apply(lambda i: count_ques(i))\n",
        "\n",
        "def count_hyphen(url):\n",
        "  return url.count('-')\n",
        "df['count-'] = df['url'].apply(lambda i: count_hyphen(i))\n",
        "\n",
        "def count_equal(url):\n",
        "  return url.count('=')\n",
        "df['count='] = df['url'].apply(lambda i: count_equal(i))\n"
      ]
    },
    {
      "cell_type": "markdown",
      "metadata": {
        "id": "VCwLPH5GT_0m"
      },
      "source": [
        "## LONGITUD DE LA URL"
      ]
    },
    {
      "cell_type": "code",
      "execution_count": null,
      "metadata": {
        "id": "4TADnvpOUDls"
      },
      "outputs": [],
      "source": [
        "def url_length(url):\n",
        "  return len(str(url))\n",
        "\n",
        "df['url_length'] = df['url'].apply(lambda i: url_length(i))"
      ]
    },
    {
      "cell_type": "markdown",
      "metadata": {
        "id": "_A7fu0MZUkSW"
      },
      "source": [
        "LONGITUD DEL HOSTNAME"
      ]
    },
    {
      "cell_type": "code",
      "execution_count": null,
      "metadata": {
        "id": "wu_QXMQeUW5b"
      },
      "outputs": [],
      "source": [
        "def hostname_length(url):\n",
        "  return len(urlparse(url).netloc) #NETCLOC: Representa el nombre de host (hostname) y el número de puerto, si está presente, de la URL.\n",
        "\n",
        "df['hostname_length'] = df['url'].apply(lambda i: hostname_length(i))\n"
      ]
    },
    {
      "cell_type": "markdown",
      "metadata": {
        "id": "ENt3GedAVC2f"
      },
      "source": [
        "## PALABRAS SOSPECHOSAS"
      ]
    },
    {
      "cell_type": "code",
      "execution_count": null,
      "metadata": {
        "id": "HVmHBvlUVFgm"
      },
      "outputs": [],
      "source": [
        "def suspicious_words(url):\n",
        "    match = re.search('PayPal|login|signin|bank|account|update|free|lucky|service|bonus|ebayisapi|webscr',\n",
        "                      url)\n",
        "    if match:\n",
        "        return 1\n",
        "    else:\n",
        "        return 0\n",
        "df['sus_url'] = df['url'].apply(lambda i: suspicious_words(i))"
      ]
    },
    {
      "cell_type": "markdown",
      "metadata": {
        "id": "0DmDUK2sVQ4T"
      },
      "source": [
        "## CONTADOR DE DIGITOS Y DE LETRAS"
      ]
    },
    {
      "cell_type": "code",
      "execution_count": null,
      "metadata": {
        "id": "3vuFeZ-mVUoo"
      },
      "outputs": [],
      "source": [
        "def digit_count(url):\n",
        "    digits = 0\n",
        "    for i in url:\n",
        "        if i.isnumeric():\n",
        "            digits = digits + 1\n",
        "    return digits\n",
        "df['count-digits'] = df['url'].apply(lambda i: digit_count(i))\n",
        "\n",
        "def letter_count(url):\n",
        "    letters = 0\n",
        "    for i in url:\n",
        "        if i.isalpha():\n",
        "            letters = letters + 1\n",
        "    return letters\n",
        "df['count-letters'] = df['url'].apply(lambda i: letter_count(i))"
      ]
    },
    {
      "cell_type": "markdown",
      "metadata": {
        "id": "-0qmbFKwfKKd"
      },
      "source": [
        "## TOP LEVEL DOMAIN, Y PRIMER DIRECTORIO"
      ]
    },
    {
      "cell_type": "code",
      "execution_count": null,
      "metadata": {
        "colab": {
          "base_uri": "https://localhost:8080/"
        },
        "id": "MiLrOxLhfLOq",
        "outputId": "85bfe9e3-b79c-4e96-8bdd-32814415b499"
      },
      "outputs": [
        {
          "output_type": "stream",
          "name": "stdout",
          "text": [
            "Collecting tld\n",
            "  Downloading tld-0.13-py2.py3-none-any.whl (263 kB)\n",
            "\u001b[?25l     \u001b[90m━━━━━━━━━━━━━━━━━━━━━━━━━━━━━━━━━━━━━━━━\u001b[0m \u001b[32m0.0/263.8 kB\u001b[0m \u001b[31m?\u001b[0m eta \u001b[36m-:--:--\u001b[0m\r\u001b[2K     \u001b[91m━━━━━━━━━━━━━━━━━━━━━\u001b[0m\u001b[91m╸\u001b[0m\u001b[90m━━━━━━━━━━━━━━━━━━\u001b[0m \u001b[32m143.4/263.8 kB\u001b[0m \u001b[31m3.7 MB/s\u001b[0m eta \u001b[36m0:00:01\u001b[0m\r\u001b[2K     \u001b[90m━━━━━━━━━━━━━━━━━━━━━━━━━━━━━━━━━━━━━━━━\u001b[0m \u001b[32m263.8/263.8 kB\u001b[0m \u001b[31m4.4 MB/s\u001b[0m eta \u001b[36m0:00:00\u001b[0m\n",
            "\u001b[?25hInstalling collected packages: tld\n",
            "Successfully installed tld-0.13\n"
          ]
        }
      ],
      "source": [
        "!pip install tld"
      ]
    },
    {
      "cell_type": "code",
      "execution_count": null,
      "metadata": {
        "id": "99bN6nadfQoj"
      },
      "outputs": [],
      "source": [
        "from urllib.parse import urlparse\n",
        "from tld import get_tld\n",
        "import os.path\n",
        "\n",
        "#Longitud del primer directorio\n",
        "def fd_length(url):\n",
        "    urlpath=urlparse(url).path\n",
        "    try:\n",
        "        return len(urlpath.split('/')[1])\n",
        "    except:\n",
        "      return 0\n",
        "df['fd_length'] = df['url'].apply(lambda i: fd_length(i))\n",
        "\n",
        "\n",
        "#Longitud del top level domain\n",
        "#crear una nueva columna llamada tld, que extrae el dominio superior y devuelve su longitud\n",
        "df['tld'] = df['url'].apply(lambda i: get_tld(i,fail_silently=True))\n",
        "def tld_length(tld):\n",
        "    try:\n",
        "        return len(tld)\n",
        "    except:\n",
        "        return -1\n",
        "df['tld_length'] = df['tld'].apply(lambda i: tld_length(i))"
      ]
    },
    {
      "cell_type": "code",
      "execution_count": null,
      "metadata": {
        "id": "0pGXyOPnFoCi"
      },
      "outputs": [],
      "source": [
        "df = df.drop(\"tld\", axis=1) #eliminamos la columna tld porque solo queremos valores numéricso"
      ]
    },
    {
      "cell_type": "code",
      "execution_count": null,
      "metadata": {
        "colab": {
          "base_uri": "https://localhost:8080/"
        },
        "id": "-Eq9ETVPIHMp",
        "outputId": "32afd093-e798-4bb3-9906-6024719d33f3"
      },
      "outputs": [
        {
          "output_type": "execute_result",
          "data": {
            "text/plain": [
              "Index(['url', 'type', 'use_of_ip', 'abnormal_url', 'google_index', 'count-dot',\n",
              "       'count-www', 'count@', 'count_dir', 'count_embed_domain', 'short_url',\n",
              "       'count-https', 'count-http', 'count%', 'count?', 'count-', 'count=',\n",
              "       'url_length', 'hostname_length', 'sus_url', 'count-digits',\n",
              "       'count-letters', 'fd_length', 'tld_length'],\n",
              "      dtype='object')"
            ]
          },
          "metadata": {},
          "execution_count": 23
        }
      ],
      "source": [
        "df.columns"
      ]
    },
    {
      "cell_type": "markdown",
      "metadata": {
        "id": "KArQUcz_JBxQ"
      },
      "source": [
        "# DISTRIBUCIÓN\n",
        "De todos los features o características que creamos, debemos de ver la distribución de cada uno de ellos.\n",
        "Tmbién para saber si nuestros features son buenos"
      ]
    },
    {
      "cell_type": "markdown",
      "metadata": {
        "id": "rraCelISKLE1"
      },
      "source": [
        "## Distribución de use_of_ip"
      ]
    },
    {
      "cell_type": "code",
      "execution_count": null,
      "metadata": {
        "colab": {
          "base_uri": "https://localhost:8080/",
          "height": 458
        },
        "id": "kWQZA2k_JduM",
        "outputId": "35cc44c4-3d40-495e-943d-bd75c14900cd"
      },
      "outputs": [
        {
          "output_type": "display_data",
          "data": {
            "text/plain": [
              "<Figure size 640x480 with 1 Axes>"
            ],
            "image/png": "[encoded data removed]"
          },
          "metadata": {}
        }
      ],
      "source": [
        "import seaborn as sns\n",
        "sns.set(style=\"darkgrid\")\n",
        "ax = sns.countplot(y=\"type\", data=df, hue=\"use_of_ip\")"
      ]
    },
    {
      "cell_type": "markdown",
      "metadata": {
        "id": "4AWn18gsNllE"
      },
      "source": [
        "podemos decir que solo las url tipo malware tienen ip"
      ]
    },
    {
      "cell_type": "markdown",
      "metadata": {
        "id": "KG68Vh7CK0Wx"
      },
      "source": [
        "## Distribución de abnormal_url"
      ]
    },
    {
      "cell_type": "code",
      "execution_count": null,
      "metadata": {
        "colab": {
          "base_uri": "https://localhost:8080/",
          "height": 458
        },
        "id": "Xsf6QH-GLEli",
        "outputId": "f10a8033-1eef-4565-bb04-191c9a38c411"
      },
      "outputs": [
        {
          "output_type": "display_data",
          "data": {
            "text/plain": [
              "<Figure size 640x480 with 1 Axes>"
            ],
            "image/png": "[encoded data removed]"
          },
          "metadata": {}
        }
      ],
      "source": [
        "sns.set(style=\"darkgrid\")\n",
        "ax = sns.countplot(y=\"type\", data=df, hue=\"abnormal_url\")"
      ]
    },
    {
      "cell_type": "markdown",
      "metadata": {
        "id": "5vNzMjOpObq4"
      },
      "source": [
        "defacement tiene la mayor cantidad de url abnormales"
      ]
    },
    {
      "cell_type": "markdown",
      "metadata": {
        "id": "ROohLjNSPMjP"
      },
      "source": [
        "Codificación del objetivo\n",
        "nuestro objetivo es la columna tipo,vamos a convertir los nombres(secure,phishing,defacement,malware) en valores númericos"
      ]
    },
    {
      "cell_type": "code",
      "execution_count": null,
      "metadata": {
        "colab": {
          "base_uri": "https://localhost:8080/"
        },
        "id": "3U1-P86eP7bv",
        "outputId": "33fa11aa-104f-4060-ed8c-827e9de3d287"
      },
      "outputs": [
        {
          "output_type": "execute_result",
          "data": {
            "text/plain": [
              "type_code\n",
              "0    428103\n",
              "1     96457\n",
              "3     94111\n",
              "2     32520\n",
              "Name: count, dtype: int64"
            ]
          },
          "metadata": {},
          "execution_count": 26
        }
      ],
      "source": [
        "from sklearn.preprocessing import LabelEncoder\n",
        "lb_make = LabelEncoder()\n",
        "df['type_code'] = lb_make.fit_transform(df['type'])\n",
        "df['type_code'].value_counts()"
      ]
    },
    {
      "cell_type": "markdown",
      "metadata": {
        "id": "Cova8ej7RMZp"
      },
      "source": [
        "# Creación de características y objetivo"
      ]
    },
    {
      "cell_type": "code",
      "execution_count": null,
      "metadata": {
        "id": "f4B5FqMxWX9s"
      },
      "outputs": [],
      "source": [
        "#Predictor Variables\n",
        "# filtering out google_index as it has only 1 value\n",
        "X = df[['use_of_ip','abnormal_url', 'count-dot', 'count-www', 'count@',\n",
        "       'count_dir', 'count_embed_domain', 'short_url', 'count-https',\n",
        "       'count-http', 'count%', 'count?', 'count-', 'count=', 'url_length',\n",
        "       'hostname_length', 'sus_url', 'fd_length', 'tld_length', 'count-digits',\n",
        "       'count-letters']]\n",
        "\n",
        "#Target Variable\n",
        "y = df['type_code']"
      ]
    },
    {
      "cell_type": "code",
      "execution_count": null,
      "metadata": {
        "colab": {
          "base_uri": "https://localhost:8080/",
          "height": 273
        },
        "id": "DFyVB9mMZJoE",
        "outputId": "45e8bad3-ab01-4c31-f1cd-19be982319fa"
      },
      "outputs": [
        {
          "output_type": "execute_result",
          "data": {
            "text/plain": [
              "   use_of_ip  abnormal_url  count-dot  count-www  count@  count_dir  \\\n",
              "0          0             0          2          0       0          0   \n",
              "1          0             0          2          0       0          2   \n",
              "2          0             0          2          0       0          3   \n",
              "3          0             1          3          1       0          1   \n",
              "4          0             1          2          0       0          1   \n",
              "\n",
              "   count_embed_domain  short_url  count-https  count-http  ...  count?  \\\n",
              "0                   0          0            0           0  ...       0   \n",
              "1                   0          0            0           0  ...       0   \n",
              "2                   0          0            0           0  ...       0   \n",
              "3                   0          0            0           1  ...       1   \n",
              "4                   0          0            0           1  ...       1   \n",
              "\n",
              "   count-  count=  url_length  hostname_length  sus_url  fd_length  \\\n",
              "0       1       0          16                0        0          0   \n",
              "1       0       0          35                0        0          5   \n",
              "2       0       0          31                0        0          7   \n",
              "3       1       4          88               21        0          9   \n",
              "4       1       3         235               23        0          9   \n",
              "\n",
              "   tld_length  count-digits  count-letters  \n",
              "0          -1             0             13  \n",
              "1          -1             1             29  \n",
              "2          -1             1             25  \n",
              "3           2             7             63  \n",
              "4           3            22            199  \n",
              "\n",
              "[5 rows x 21 columns]"
            ],
            "text/html": [
              "\n",
              "  <div id=\"df-fd3c9f04-5236-42c6-b8c9-f93a30b9de8a\" class=\"colab-df-container\">\n",
              "    <div>\n",
              "<style scoped>\n",
              "    .dataframe tbody tr th:only-of-type {\n",
              "        vertical-align: middle;\n",
              "    }\n",
              "\n",
              "    .dataframe tbody tr th {\n",
              "        vertical-align: top;\n",
              "    }\n",
              "\n",
              "    .dataframe thead th {\n",
              "        text-align: right;\n",
              "    }\n",
              "</style>\n",
              "<table border=\"1\" class=\"dataframe\">\n",
              "  <thead>\n",
              "    <tr style=\"text-align: right;\">\n",
              "      <th></th>\n",
              "      <th>use_of_ip</th>\n",
              "      <th>abnormal_url</th>\n",
              "      <th>count-dot</th>\n",
              "      <th>count-www</th>\n",
              "      <th>count@</th>\n",
              "      <th>count_dir</th>\n",
              "      <th>count_embed_domain</th>\n",
              "      <th>short_url</th>\n",
              "      <th>count-https</th>\n",
              "      <th>count-http</th>\n",
              "      <th>...</th>\n",
              "      <th>count?</th>\n",
              "      <th>count-</th>\n",
              "      <th>count=</th>\n",
              "      <th>url_length</th>\n",
              "      <th>hostname_length</th>\n",
              "      <th>sus_url</th>\n",
              "      <th>fd_length</th>\n",
              "      <th>tld_length</th>\n",
              "      <th>count-digits</th>\n",
              "      <th>count-letters</th>\n",
              "    </tr>\n",
              "  </thead>\n",
              "  <tbody>\n",
              "    <tr>\n",
              "      <th>0</th>\n",
              "      <td>0</td>\n",
              "      <td>0</td>\n",
              "      <td>2</td>\n",
              "      <td>0</td>\n",
              "      <td>0</td>\n",
              "      <td>0</td>\n",
              "      <td>0</td>\n",
              "      <td>0</td>\n",
              "      <td>0</td>\n",
              "      <td>0</td>\n",
              "      <td>...</td>\n",
              "      <td>0</td>\n",
              "      <td>1</td>\n",
              "      <td>0</td>\n",
              "      <td>16</td>\n",
              "      <td>0</td>\n",
              "      <td>0</td>\n",
              "      <td>0</td>\n",
              "      <td>-1</td>\n",
              "      <td>0</td>\n",
              "      <td>13</td>\n",
              "    </tr>\n",
              "    <tr>\n",
              "      <th>1</th>\n",
              "      <td>0</td>\n",
              "      <td>0</td>\n",
              "      <td>2</td>\n",
              "      <td>0</td>\n",
              "      <td>0</td>\n",
              "      <td>2</td>\n",
              "      <td>0</td>\n",
              "      <td>0</td>\n",
              "      <td>0</td>\n",
              "      <td>0</td>\n",
              "      <td>...</td>\n",
              "      <td>0</td>\n",
              "      <td>0</td>\n",
              "      <td>0</td>\n",
              "      <td>35</td>\n",
              "      <td>0</td>\n",
              "      <td>0</td>\n",
              "      <td>5</td>\n",
              "      <td>-1</td>\n",
              "      <td>1</td>\n",
              "      <td>29</td>\n",
              "    </tr>\n",
              "    <tr>\n",
              "      <th>2</th>\n",
              "      <td>0</td>\n",
              "      <td>0</td>\n",
              "      <td>2</td>\n",
              "      <td>0</td>\n",
              "      <td>0</td>\n",
              "      <td>3</td>\n",
              "      <td>0</td>\n",
              "      <td>0</td>\n",
              "      <td>0</td>\n",
              "      <td>0</td>\n",
              "      <td>...</td>\n",
              "      <td>0</td>\n",
              "      <td>0</td>\n",
              "      <td>0</td>\n",
              "      <td>31</td>\n",
              "      <td>0</td>\n",
              "      <td>0</td>\n",
              "      <td>7</td>\n",
              "      <td>-1</td>\n",
              "      <td>1</td>\n",
              "      <td>25</td>\n",
              "    </tr>\n",
              "    <tr>\n",
              "      <th>3</th>\n",
              "      <td>0</td>\n",
              "      <td>1</td>\n",
              "      <td>3</td>\n",
              "      <td>1</td>\n",
              "      <td>0</td>\n",
              "      <td>1</td>\n",
              "      <td>0</td>\n",
              "      <td>0</td>\n",
              "      <td>0</td>\n",
              "      <td>1</td>\n",
              "      <td>...</td>\n",
              "      <td>1</td>\n",
              "      <td>1</td>\n",
              "      <td>4</td>\n",
              "      <td>88</td>\n",
              "      <td>21</td>\n",
              "      <td>0</td>\n",
              "      <td>9</td>\n",
              "      <td>2</td>\n",
              "      <td>7</td>\n",
              "      <td>63</td>\n",
              "    </tr>\n",
              "    <tr>\n",
              "      <th>4</th>\n",
              "      <td>0</td>\n",
              "      <td>1</td>\n",
              "      <td>2</td>\n",
              "      <td>0</td>\n",
              "      <td>0</td>\n",
              "      <td>1</td>\n",
              "      <td>0</td>\n",
              "      <td>0</td>\n",
              "      <td>0</td>\n",
              "      <td>1</td>\n",
              "      <td>...</td>\n",
              "      <td>1</td>\n",
              "      <td>1</td>\n",
              "      <td>3</td>\n",
              "      <td>235</td>\n",
              "      <td>23</td>\n",
              "      <td>0</td>\n",
              "      <td>9</td>\n",
              "      <td>3</td>\n",
              "      <td>22</td>\n",
              "      <td>199</td>\n",
              "    </tr>\n",
              "  </tbody>\n",
              "</table>\n",
              "<p>5 rows × 21 columns</p>\n",
              "</div>\n",
              "    <div class=\"colab-df-buttons\">\n",
              "\n",
              "  <div class=\"colab-df-container\">\n",
              "    <button class=\"colab-df-convert\" onclick=\"convertToInteractive('df-fd3c9f04-5236-42c6-b8c9-f93a30b9de8a')\"\n",
              "            title=\"Convert this dataframe to an interactive table.\"\n",
              "            style=\"display:none;\">\n",
              "\n",
              "  <svg xmlns=\"http://www.w3.org/2000/svg\" height=\"24px\" viewBox=\"0 -960 960 960\">\n",
              "    <path d=\"M120-120v-720h720v720H120Zm60-500h600v-160H180v160Zm220 220h160v-160H400v160Zm0 220h160v-160H400v160ZM180-400h160v-160H180v160Zm440 0h160v-160H620v160ZM180-180h160v-160H180v160Zm440 0h160v-160H620v160Z\"/>\n",
              "  </svg>\n",
              "    </button>\n",
              "\n",
              "  <style>\n",
              "    .colab-df-container {\n",
              "      display:flex;\n",
              "      gap: 12px;\n",
              "    }\n",
              "\n",
              "    .colab-df-convert {\n",
              "      background-color: #E8F0FE;\n",
              "      border: none;\n",
              "      border-radius: 50%;\n",
              "      cursor: pointer;\n",
              "      display: none;\n",
              "      fill: #1967D2;\n",
              "      height: 32px;\n",
              "      padding: 0 0 0 0;\n",
              "      width: 32px;\n",
              "    }\n",
              "\n",
              "    .colab-df-convert:hover {\n",
              "      background-color: #E2EBFA;\n",
              "      box-shadow: 0px 1px 2px rgba(60, 64, 67, 0.3), 0px 1px 3px 1px rgba(60, 64, 67, 0.15);\n",
              "      fill: #174EA6;\n",
              "    }\n",
              "\n",
              "    .colab-df-buttons div {\n",
              "      margin-bottom: 4px;\n",
              "    }\n",
              "\n",
              "    [theme=dark] .colab-df-convert {\n",
              "      background-color: #3B4455;\n",
              "      fill: #D2E3FC;\n",
              "    }\n",
              "\n",
              "    [theme=dark] .colab-df-convert:hover {\n",
              "      background-color: #434B5C;\n",
              "      box-shadow: 0px 1px 3px 1px rgba(0, 0, 0, 0.15);\n",
              "      filter: drop-shadow(0px 1px 2px rgba(0, 0, 0, 0.3));\n",
              "      fill: #FFFFFF;\n",
              "    }\n",
              "  </style>\n",
              "\n",
              "    <script>\n",
              "      const buttonEl =\n",
              "        document.querySelector('#df-fd3c9f04-5236-42c6-b8c9-f93a30b9de8a button.colab-df-convert');\n",
              "      buttonEl.style.display =\n",
              "        google.colab.kernel.accessAllowed ? 'block' : 'none';\n",
              "\n",
              "      async function convertToInteractive(key) {\n",
              "        const element = document.querySelector('#df-fd3c9f04-5236-42c6-b8c9-f93a30b9de8a');\n",
              "        const dataTable =\n",
              "          await google.colab.kernel.invokeFunction('convertToInteractive',\n",
              "                                                    [key], {});\n",
              "        if (!dataTable) return;\n",
              "\n",
              "        const docLinkHtml = 'Like what you see? Visit the ' +\n",
              "          '<a target=\"_blank\" href=https://colab.research.google.com/notebooks/data_table.ipynb>data table notebook</a>'\n",
              "          + ' to learn more about interactive tables.';\n",
              "        element.innerHTML = '';\n",
              "        dataTable['output_type'] = 'display_data';\n",
              "        await google.colab.output.renderOutput(dataTable, element);\n",
              "        const docLink = document.createElement('div');\n",
              "        docLink.innerHTML = docLinkHtml;\n",
              "        element.appendChild(docLink);\n",
              "      }\n",
              "    </script>\n",
              "  </div>\n",
              "\n",
              "\n",
              "<div id=\"df-ab5a9722-67ec-4b3d-bd29-6ede37dc9262\">\n",
              "  <button class=\"colab-df-quickchart\" onclick=\"quickchart('df-ab5a9722-67ec-4b3d-bd29-6ede37dc9262')\"\n",
              "            title=\"Suggest charts\"\n",
              "            style=\"display:none;\">\n",
              "\n",
              "<svg xmlns=\"http://www.w3.org/2000/svg\" height=\"24px\"viewBox=\"0 0 24 24\"\n",
              "     width=\"24px\">\n",
              "    <g>\n",
              "        <path d=\"M19 3H5c-1.1 0-2 .9-2 2v14c0 1.1.9 2 2 2h14c1.1 0 2-.9 2-2V5c0-1.1-.9-2-2-2zM9 17H7v-7h2v7zm4 0h-2V7h2v10zm4 0h-2v-4h2v4z\"/>\n",
              "    </g>\n",
              "</svg>\n",
              "  </button>\n",
              "\n",
              "<style>\n",
              "  .colab-df-quickchart {\n",
              "      --bg-color: #E8F0FE;\n",
              "      --fill-color: #1967D2;\n",
              "      --hover-bg-color: #E2EBFA;\n",
              "      --hover-fill-color: #174EA6;\n",
              "      --disabled-fill-color: #AAA;\n",
              "      --disabled-bg-color: #DDD;\n",
              "  }\n",
              "\n",
              "  [theme=dark] .colab-df-quickchart {\n",
              "      --bg-color: #3B4455;\n",
              "      --fill-color: #D2E3FC;\n",
              "      --hover-bg-color: #434B5C;\n",
              "      --hover-fill-color: #FFFFFF;\n",
              "      --disabled-bg-color: #3B4455;\n",
              "      --disabled-fill-color: #666;\n",
              "  }\n",
              "\n",
              "  .colab-df-quickchart {\n",
              "    background-color: var(--bg-color);\n",
              "    border: none;\n",
              "    border-radius: 50%;\n",
              "    cursor: pointer;\n",
              "    display: none;\n",
              "    fill: var(--fill-color);\n",
              "    height: 32px;\n",
              "    padding: 0;\n",
              "    width: 32px;\n",
              "  }\n",
              "\n",
              "  .colab-df-quickchart:hover {\n",
              "    background-color: var(--hover-bg-color);\n",
              "    box-shadow: 0 1px 2px rgba(60, 64, 67, 0.3), 0 1px 3px 1px rgba(60, 64, 67, 0.15);\n",
              "    fill: var(--button-hover-fill-color);\n",
              "  }\n",
              "\n",
              "  .colab-df-quickchart-complete:disabled,\n",
              "  .colab-df-quickchart-complete:disabled:hover {\n",
              "    background-color: var(--disabled-bg-color);\n",
              "    fill: var(--disabled-fill-color);\n",
              "    box-shadow: none;\n",
              "  }\n",
              "\n",
              "  .colab-df-spinner {\n",
              "    border: 2px solid var(--fill-color);\n",
              "    border-color: transparent;\n",
              "    border-bottom-color: var(--fill-color);\n",
              "    animation:\n",
              "      spin 1s steps(1) infinite;\n",
              "  }\n",
              "\n",
              "  @keyframes spin {\n",
              "    0% {\n",
              "      border-color: transparent;\n",
              "      border-bottom-color: var(--fill-color);\n",
              "      border-left-color: var(--fill-color);\n",
              "    }\n",
              "    20% {\n",
              "      border-color: transparent;\n",
              "      border-left-color: var(--fill-color);\n",
              "      border-top-color: var(--fill-color);\n",
              "    }\n",
              "    30% {\n",
              "      border-color: transparent;\n",
              "      border-left-color: var(--fill-color);\n",
              "      border-top-color: var(--fill-color);\n",
              "      border-right-color: var(--fill-color);\n",
              "    }\n",
              "    40% {\n",
              "      border-color: transparent;\n",
              "      border-right-color: var(--fill-color);\n",
              "      border-top-color: var(--fill-color);\n",
              "    }\n",
              "    60% {\n",
              "      border-color: transparent;\n",
              "      border-right-color: var(--fill-color);\n",
              "    }\n",
              "    80% {\n",
              "      border-color: transparent;\n",
              "      border-right-color: var(--fill-color);\n",
              "      border-bottom-color: var(--fill-color);\n",
              "    }\n",
              "    90% {\n",
              "      border-color: transparent;\n",
              "      border-bottom-color: var(--fill-color);\n",
              "    }\n",
              "  }\n",
              "</style>\n",
              "\n",
              "  <script>\n",
              "    async function quickchart(key) {\n",
              "      const quickchartButtonEl =\n",
              "        document.querySelector('#' + key + ' button');\n",
              "      quickchartButtonEl.disabled = true;  // To prevent multiple clicks.\n",
              "      quickchartButtonEl.classList.add('colab-df-spinner');\n",
              "      try {\n",
              "        const charts = await google.colab.kernel.invokeFunction(\n",
              "            'suggestCharts', [key], {});\n",
              "      } catch (error) {\n",
              "        console.error('Error during call to suggestCharts:', error);\n",
              "      }\n",
              "      quickchartButtonEl.classList.remove('colab-df-spinner');\n",
              "      quickchartButtonEl.classList.add('colab-df-quickchart-complete');\n",
              "    }\n",
              "    (() => {\n",
              "      let quickchartButtonEl =\n",
              "        document.querySelector('#df-ab5a9722-67ec-4b3d-bd29-6ede37dc9262 button');\n",
              "      quickchartButtonEl.style.display =\n",
              "        google.colab.kernel.accessAllowed ? 'block' : 'none';\n",
              "    })();\n",
              "  </script>\n",
              "</div>\n",
              "\n",
              "    </div>\n",
              "  </div>\n"
            ],
            "application/vnd.google.colaboratory.intrinsic+json": {
              "type": "dataframe",
              "variable_name": "X"
            }
          },
          "metadata": {},
          "execution_count": 28
        }
      ],
      "source": [
        "X.head()"
      ]
    },
    {
      "cell_type": "markdown",
      "metadata": {
        "id": "9QOolzYQZVXp"
      },
      "source": [
        "# Training test SPLIT"
      ]
    },
    {
      "cell_type": "code",
      "execution_count": null,
      "metadata": {
        "id": "DdbF3g4qZWWt"
      },
      "outputs": [],
      "source": [
        "X_train, X_test, y_train, y_test = train_test_split(X, y, stratify=y, test_size=0.2, shuffle=True, random_state=5)\n"
      ]
    },
    {
      "cell_type": "markdown",
      "metadata": {
        "id": "ZQyXTh9YdxXf"
      },
      "source": [
        "- stratify garantiza que las proporciones de clases en y se mantengan en las divisiones de entrenamiento y prueba.\n",
        "- test_size Especifica el tamaño del conjunto de prueba. Aquí, el 20% de los datos se utilizarán como conjunto de prueba y el 80% restante como conjunto de entrenamiento.\n",
        "- shuffle Indica si se deben mezclar los datos antes de dividirlos. En este caso, se mezclan los datos antes de la división.\n",
        "- random_state Es una semilla (seed) utilizada por el generador de números aleatorios para garantizar que los resultados sean reproducibles. Estableciendo este valor, aseguras que cada vez que ejecutes esta división, obtendrás la misma división de datos.\n"
      ]
    },
    {
      "cell_type": "markdown",
      "metadata": {
        "id": "B0JTBhLXZ49F"
      },
      "source": [
        "# Construcción del modelo"
      ]
    },
    {
      "cell_type": "markdown",
      "source": [
        "# 2. Decision Trees"
      ],
      "metadata": {
        "id": "Xn-Za5rrXK4P"
      }
    },
    {
      "cell_type": "code",
      "source": [
        "from sklearn.tree import DecisionTreeClassifier\n",
        "dt = DecisionTreeClassifier()\n",
        "dt.fit(X_train, y_train)\n",
        "y_pred_dt = dt.predict(X_test)\n",
        "print(classification_report(y_test, y_pred_dt, target_names=['benign', 'defacement', 'phishing', 'malware']))\n",
        "\n",
        "score_dt = metrics.accuracy_score(y_test, y_pred_dt)\n",
        "print(\"Accuracy: %0.3f\" % score_dt)\n"
      ],
      "metadata": {
        "colab": {
          "base_uri": "https://localhost:8080/",
          "height": 805
        },
        "id": "uyCkdEwIXQ5n",
        "outputId": "300cebee-5a5f-4a3c-f3d9-9d90e5e8b554"
      },
      "execution_count": null,
      "outputs": [
        {
          "output_type": "stream",
          "name": "stdout",
          "text": [
            "              precision    recall  f1-score   support\n",
            "\n",
            "      benign       0.97      0.98      0.97     85621\n",
            "  defacement       0.98      0.99      0.98     19292\n",
            "    phishing       0.95      0.94      0.95      6504\n",
            "     malware       0.87      0.84      0.86     18822\n",
            "\n",
            "    accuracy                           0.96    130239\n",
            "   macro avg       0.94      0.94      0.94    130239\n",
            "weighted avg       0.96      0.96      0.96    130239\n",
            "\n",
            "Accuracy: 0.958\n"
          ]
        },
        {
          "output_type": "execute_result",
          "data": {
            "text/plain": [
              "Text(0.5, 32.249999999999986, 'Predicted Values')"
            ]
          },
          "metadata": {},
          "execution_count": 42
        },
        {
          "output_type": "display_data",
          "data": {
            "text/plain": [
              "<Figure size 800x600 with 2 Axes>"
            ],
            "image/png": "[encoded data removed]"
          },
          "metadata": {}
        }
      ]
    },
    {
      "cell_type": "markdown",
      "metadata": {
        "id": "hjWlJVvSa4Xa"
      },
      "source": [
        "# 3. Random Forest Classifier"
      ]
    },
    {
      "cell_type": "code",
      "execution_count": null,
      "metadata": {
        "colab": {
          "base_uri": "https://localhost:8080/"
        },
        "id": "46tlQm_MedG2",
        "outputId": "8a4dd315-a501-4fd9-b382-57e92f871d0a"
      },
      "outputs": [
        {
          "output_type": "stream",
          "name": "stdout",
          "text": [
            "Requirement already satisfied: scikit-learn in /usr/local/lib/python3.10/dist-packages (1.2.2)\n",
            "Requirement already satisfied: numpy>=1.17.3 in /usr/local/lib/python3.10/dist-packages (from scikit-learn) (1.25.2)\n",
            "Requirement already satisfied: scipy>=1.3.2 in /usr/local/lib/python3.10/dist-packages (from scikit-learn) (1.11.4)\n",
            "Requirement already satisfied: joblib>=1.1.1 in /usr/local/lib/python3.10/dist-packages (from scikit-learn) (1.4.2)\n",
            "Requirement already satisfied: threadpoolctl>=2.0.0 in /usr/local/lib/python3.10/dist-packages (from scikit-learn) (3.5.0)\n"
          ]
        }
      ],
      "source": [
        "!pip install scikit-learn\n",
        "import sklearn.metrics as metrics"
      ]
    },
    {
      "cell_type": "code",
      "execution_count": 1,
      "metadata": {
        "colab": {
          "base_uri": "https://localhost:8080/",
          "height": 216
        },
        "id": "8nqEQI-vavnq",
        "outputId": "a02e2bc1-a4bb-4576-abcd-b9325b3cbef8"
      },
      "outputs": [
        {
          "output_type": "error",
          "ename": "NameError",
          "evalue": "name 'X_train' is not defined",
          "traceback": [
            "\u001b[0;31m---------------------------------------------------------------------------\u001b[0m",
            "\u001b[0;31mNameError\u001b[0m                                 Traceback (most recent call last)",
            "\u001b[0;32m<ipython-input-1-ee817a7dafd7>\u001b[0m in \u001b[0;36m<cell line: 4>\u001b[0;34m()\u001b[0m\n\u001b[1;32m      2\u001b[0m \u001b[0;31m#Creamos una instancia, se están construyendo 100 árboles, se considerará la raíz cuadrada del número total de características\u001b[0m\u001b[0;34m\u001b[0m\u001b[0;34m\u001b[0m\u001b[0m\n\u001b[1;32m      3\u001b[0m \u001b[0mrf\u001b[0m \u001b[0;34m=\u001b[0m \u001b[0mRandomForestClassifier\u001b[0m\u001b[0;34m(\u001b[0m\u001b[0mn_estimators\u001b[0m\u001b[0;34m=\u001b[0m\u001b[0;36m100\u001b[0m\u001b[0;34m,\u001b[0m \u001b[0mmax_features\u001b[0m\u001b[0;34m=\u001b[0m\u001b[0;34m'sqrt'\u001b[0m\u001b[0;34m)\u001b[0m\u001b[0;34m\u001b[0m\u001b[0;34m\u001b[0m\u001b[0m\n\u001b[0;32m----> 4\u001b[0;31m \u001b[0mrf\u001b[0m\u001b[0;34m.\u001b[0m\u001b[0mfit\u001b[0m\u001b[0;34m(\u001b[0m\u001b[0mX_train\u001b[0m\u001b[0;34m,\u001b[0m \u001b[0my_train\u001b[0m\u001b[0;34m)\u001b[0m \u001b[0;31m#utlizamos los datos de entrenamiento\u001b[0m\u001b[0;34m\u001b[0m\u001b[0;34m\u001b[0m\u001b[0m\n\u001b[0m\u001b[1;32m      5\u001b[0m \u001b[0my_pred_rf\u001b[0m \u001b[0;34m=\u001b[0m \u001b[0mrf\u001b[0m\u001b[0;34m.\u001b[0m\u001b[0mpredict\u001b[0m\u001b[0;34m(\u001b[0m\u001b[0mX_test\u001b[0m\u001b[0;34m)\u001b[0m \u001b[0;31m#realizamos las predicciones\u001b[0m\u001b[0;34m\u001b[0m\u001b[0;34m\u001b[0m\u001b[0m\n\u001b[1;32m      6\u001b[0m \u001b[0mprint\u001b[0m\u001b[0;34m(\u001b[0m\u001b[0mclassification_report\u001b[0m\u001b[0;34m(\u001b[0m\u001b[0my_test\u001b[0m\u001b[0;34m,\u001b[0m \u001b[0my_pred_rf\u001b[0m\u001b[0;34m,\u001b[0m \u001b[0mtarget_names\u001b[0m\u001b[0;34m=\u001b[0m\u001b[0;34m[\u001b[0m\u001b[0;34m'benign'\u001b[0m\u001b[0;34m,\u001b[0m \u001b[0;34m'defacement'\u001b[0m\u001b[0;34m,\u001b[0m \u001b[0;34m'phishing'\u001b[0m\u001b[0;34m,\u001b[0m \u001b[0;34m'malware'\u001b[0m\u001b[0;34m]\u001b[0m\u001b[0;34m)\u001b[0m\u001b[0;34m)\u001b[0m\u001b[0;34m\u001b[0m\u001b[0;34m\u001b[0m\u001b[0m\n",
            "\u001b[0;31mNameError\u001b[0m: name 'X_train' is not defined"
          ]
        }
      ],
      "source": [
        "from sklearn.ensemble import RandomForestClassifier #importamos la biblioteca\n",
        "#Creamos una instancia, se están construyendo 100 árboles, se considerará la raíz cuadrada del número total de características\n",
        "rf = RandomForestClassifier(n_estimators=100, max_features='sqrt')\n",
        "rf.fit(X_train, y_train) #utlizamos los datos de entrenamiento\n",
        "y_pred_rf = rf.predict(X_test) #realizamos las predicciones\n",
        "print(classification_report(y_test, y_pred_rf, target_names=['benign', 'defacement', 'phishing', 'malware']))\n",
        "\n",
        "score = metrics.accuracy_score(y_test, y_pred_rf)\n",
        "print(\"Accuracy: %0.3f\" % score)"
      ]
    },
    {
      "cell_type": "markdown",
      "source": [
        "Una matriz de confusión es una herramienta fundamental en el campo de la clasificación supervisada que permite visualizar el desempeño de un modelo predictivo. Esta matriz muestra un resumen de la cantidad de predicciones correctas e incorrectas realizadas por un modelo en cada una de las clases de salida.\n",
        "Las filas representan las clases reales y las columnas representan las clases predichas por el modelo. Cada celda en la matriz representa la cantidad de instancias que pertenecen a una determinada combinación de clase real y clase predicha.\n",
        "La diagonal principal de la matriz (de arriba a la izquierda a abajo a la derecha) representa las predicciones correctas.\n",
        "Los elementos fuera de la diagonal principal representan los errores de clasificación."
      ],
      "metadata": {
        "id": "xZZ6Bbs1sKep"
      }
    },
    {
      "cell_type": "code",
      "execution_count": null,
      "metadata": {
        "colab": {
          "base_uri": "https://localhost:8080/",
          "height": 573
        },
        "id": "lS9F2LmJxcER",
        "outputId": "8b3a8437-f9b2-4c7d-e908-d4f68c10d127"
      },
      "outputs": [
        {
          "output_type": "display_data",
          "data": {
            "text/plain": [
              "<Figure size 800x600 with 2 Axes>"
            ],
            "image/png": "[encoded data removed]"
          },
          "metadata": {}
        }
      ],
      "source": [
        "cm = confusion_matrix(y_test, y_pred_rf)\n",
        "cm_df = pd.DataFrame(cm,\n",
        "                     index = ['benign', 'defacement', 'phishing', 'malware'],\n",
        "                     columns = ['benign', 'defacement', 'phishing', 'malware'])\n",
        "plt.figure(figsize=(8,6))\n",
        "sns.heatmap(cm_df, annot=True, fmt=\".1f\")\n",
        "plt.title('Confusion Matrix')\n",
        "plt.ylabel('Actal Values')\n",
        "plt.xlabel('Predicted Values')\n",
        "plt.show()\n"
      ]
    },
    {
      "cell_type": "markdown",
      "metadata": {
        "id": "KtzEDgQSyJ96"
      },
      "source": [
        "# 4. XGBoost Classifier"
      ]
    },
    {
      "cell_type": "code",
      "execution_count": null,
      "metadata": {
        "colab": {
          "base_uri": "https://localhost:8080/"
        },
        "id": "GzZQk5ldyMxy",
        "outputId": "02b6fb2c-9cce-44d4-b597-5c2166055898"
      },
      "outputs": [
        {
          "output_type": "stream",
          "name": "stdout",
          "text": [
            "              precision    recall  f1-score   support\n",
            "\n",
            "      benign       0.97      0.99      0.98     85621\n",
            "  defacement       0.97      0.99      0.98     19292\n",
            "    phishing       0.98      0.91      0.94      6504\n",
            "     malware       0.91      0.83      0.87     18822\n",
            "\n",
            "    accuracy                           0.96    130239\n",
            "   macro avg       0.96      0.93      0.94    130239\n",
            "weighted avg       0.96      0.96      0.96    130239\n",
            "\n",
            "Accuracy: 0.962\n"
          ]
        }
      ],
      "source": [
        "xgb_c = xgb.XGBClassifier(n_estimators=100)\n",
        "xgb_c.fit(X_train, y_train)\n",
        "y_pred_x = xgb_c.predict(X_test)\n",
        "print(classification_report(y_test, y_pred_x, target_names=['benign', 'defacement', 'phishing', 'malware']))\n",
        "\n",
        "score = metrics.accuracy_score(y_test, y_pred_x)\n",
        "print(\"Accuracy: %0.3f\" % score)"
      ]
    },
    {
      "cell_type": "markdown",
      "metadata": {
        "id": "t6c2XxBxcX0O"
      },
      "source": [
        "# * Light GBM Classifier"
      ]
    },
    {
      "cell_type": "code",
      "execution_count": null,
      "metadata": {
        "colab": {
          "base_uri": "https://localhost:8080/"
        },
        "id": "9DTyYhIkcxKW",
        "outputId": "7550016b-ccb3-476d-f7f4-53aa10de5a5a"
      },
      "outputs": [
        {
          "output_type": "stream",
          "name": "stdout",
          "text": [
            "Requirement already satisfied: lightgbm in /usr/local/lib/python3.10/dist-packages (4.1.0)\n",
            "Requirement already satisfied: numpy in /usr/local/lib/python3.10/dist-packages (from lightgbm) (1.25.2)\n",
            "Requirement already satisfied: scipy in /usr/local/lib/python3.10/dist-packages (from lightgbm) (1.11.4)\n"
          ]
        }
      ],
      "source": [
        "!pip install lightgbm"
      ]
    },
    {
      "cell_type": "code",
      "execution_count": null,
      "metadata": {
        "colab": {
          "base_uri": "https://localhost:8080/"
        },
        "id": "ulgVyCHccYzg",
        "outputId": "1e3be6a8-1d6d-4d44-eca4-ae68fb421534"
      },
      "outputs": [
        {
          "output_type": "stream",
          "name": "stdout",
          "text": [
            "[LightGBM] [Warning] Unknown parameter: silent\n",
            "[LightGBM] [Warning] Unknown parameter: silent\n",
            "[LightGBM] [Info] Auto-choosing row-wise multi-threading, the overhead of testing was 0.084946 seconds.\n",
            "You can set `force_row_wise=true` to remove the overhead.\n",
            "And if memory is not enough, you can set `force_col_wise=true`.\n",
            "[LightGBM] [Info] Total Bins 1158\n",
            "[LightGBM] [Info] Number of data points in the train set: 520952, number of used features: 21\n",
            "[LightGBM] [Info] Start training from score -0.419439\n",
            "[LightGBM] [Info] Start training from score -1.909712\n",
            "[LightGBM] [Info] Start training from score -2.996946\n",
            "[LightGBM] [Info] Start training from score -1.934324\n",
            "[LightGBM] [Warning] Unknown parameter: silent\n",
            "              precision    recall  f1-score   support\n",
            "\n",
            "      benign       0.97      0.99      0.98     85621\n",
            "  defacement       0.96      0.99      0.98     19292\n",
            "    phishing       0.97      0.90      0.93      6504\n",
            "     malware       0.90      0.83      0.86     18822\n",
            "\n",
            "    accuracy                           0.96    130239\n",
            "   macro avg       0.95      0.93      0.94    130239\n",
            "weighted avg       0.96      0.96      0.96    130239\n",
            "\n",
            "accuracy:   0.959\n"
          ]
        }
      ],
      "source": [
        "import lightgbm as lgb\n",
        "from lightgbm import LGBMClassifier\n",
        "\n",
        "lgb = LGBMClassifier(objective='multiclass',boosting_type= 'gbdt',n_jobs = 5, silent = True, random_state=5)\n",
        "LGB_C = lgb.fit(X_train, y_train)\n",
        "\n",
        "\n",
        "y_pred_lgb = LGB_C.predict(X_test)\n",
        "print(classification_report(y_test,y_pred_lgb,target_names=['benign', 'defacement','phishing','malware']))\n",
        "\n",
        "score = metrics.accuracy_score(y_test, y_pred_lgb)\n",
        "print(\"accuracy:   %0.3f\" % score)"
      ]
    },
    {
      "cell_type": "markdown",
      "metadata": {
        "id": "zWcsmLkny6x2"
      },
      "source": [
        "# Predicción"
      ]
    },
    {
      "cell_type": "code",
      "execution_count": null,
      "metadata": {
        "colab": {
          "base_uri": "https://localhost:8080/"
        },
        "id": "R1qO4rZOy8jV",
        "outputId": "0f5ae492-d979-4d1a-ea32-adfcc712c016"
      },
      "outputs": [
        {
          "output_type": "stream",
          "name": "stdout",
          "text": [
            "SAFE\n",
            "SAFE\n",
            "SAFE\n",
            "MALWARE\n",
            "MALWARE\n",
            "MALWARE\n",
            "SAFE\n",
            "SAFE\n",
            "MALWARE\n",
            "SAFE\n"
          ]
        }
      ],
      "source": [
        "def main(url):\n",
        "  status = []\n",
        "\n",
        "  status.append(having_ip_address(url))\n",
        "  status.append(abnormal_url(url))\n",
        "  status.append(count_dot(url))\n",
        "  status.append(count_www(url))\n",
        "  status.append(count_atrate(url))\n",
        "  status.append(no_of_dir(url))\n",
        "  status.append(no_of_embed(url))\n",
        "\n",
        "  status.append(shortening_service(url))\n",
        "  status.append(count_https(url))\n",
        "  status.append(count_http(url))\n",
        "\n",
        "  status.append(count_per(url))\n",
        "  status.append(count_ques(url))\n",
        "  status.append(count_hyphen(url))\n",
        "  status.append(count_equal(url))\n",
        "\n",
        "  status.append(url_length(url))\n",
        "  status.append(hostname_length(url))\n",
        "  status.append(suspicious_words(url))\n",
        "  status.append(digit_count(url))\n",
        "  status.append(letter_count(url))\n",
        "\n",
        "  status.append(fd_length(url))\n",
        "  status.append(tld_length(get_tld(url,fail_silently=True)))\n",
        "\n",
        "  return status\n",
        "\n",
        "\n",
        "def get_prediction_from_url(test_url):\n",
        "  features_test = main(test_url)\n",
        "  features_test = np.array(features_test).reshape(1, -1)\n",
        "\n",
        "  pred = xgb_c.predict(features_test)\n",
        "  if int(pred[0]) == 0:\n",
        "    res = \"SAFE\"\n",
        "    return res\n",
        "  elif int(pred[0]) == 1.0:\n",
        "    res = \"DEFACEMENT\"\n",
        "    return res\n",
        "  elif int(pred[0]) == 2.0:\n",
        "    res = \"PHISHING\"\n",
        "    return res\n",
        "  elif int(pred[0]) == 3.0:\n",
        "    res = \"MALWARE\"\n",
        "    return res\n",
        "\n",
        "urls = ['en.wikipedia.org/wiki/North_Dakota', 'instagram.com/', 'facebook.com/', 'www-smbc-card-com.cj412.com/', 'rldwnp1m.duckdns.org', 'ru1fjhvl.duckdns.org', 'www.pinterest.com.mx/', 'www.canva.com/', 'efan6ff.duckdns.org', 'wik.com.mx/']\n",
        "for url in urls:\n",
        "  print(get_prediction_from_url(url))"
      ]
    }
  ],
  "metadata": {
    "colab": {
      "provenance": []
    },
    "kernelspec": {
      "display_name": "Python 3",
      "name": "python3"
    },
    "language_info": {
      "name": "python"
    }
  },
  "nbformat": 4,
  "nbformat_minor": 0
}